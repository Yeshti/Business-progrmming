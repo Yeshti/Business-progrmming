{
  "nbformat": 4,
  "nbformat_minor": 0,
  "metadata": {
    "colab": {
      "provenance": []
    },
    "kernelspec": {
      "name": "python3",
      "display_name": "Python 3"
    },
    "language_info": {
      "name": "python"
    }
  },
  "cells": [
    {
      "cell_type": "code",
      "execution_count": null,
      "metadata": {
        "id": "otT1vshI_NDb"
      },
      "outputs": [],
      "source": [
        "X = int(input())\n",
        "N = int(input())\n",
        "\n",
        "total = X\n",
        "\n",
        "\n",
        "for _ in range(N):\n",
        "    spent = int(input())\n",
        "    total += (X - spent)\n",
        "\n",
        "print(total)"
      ]
    }
  ]
}