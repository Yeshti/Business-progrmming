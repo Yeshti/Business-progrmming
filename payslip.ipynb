{
  "cells": [
    {
      "cell_type": "markdown",
      "metadata": {
        "id": "kF8ldRydTDPx"
      },
      "source": [
        "# Payslip\n",
        "\n",
        "A payslip is a document that shows their total wages earned for a set period.\n",
        "This might be from a salary, hourly wages or commission. Payslips are also know as\n",
        "‘pay advice’.  Traditionally the payslip was a paper document attached. Today\n",
        "most organisations provide them electronically.\n",
        "\n",
        "## Task 0 - Import into GitHub\n",
        "First, import the notebook into Colab and save an initial copy to GitHub.\n",
        "\n",
        "## Task 1 - Start Simple\n",
        "\n",
        "Writing complete robust programs can take time.  Often the more we understand a\n",
        "problem the easier it is to implement the solution.   One approach is to\n",
        "implement the simplest version of a program and then slowly add functionality.\n",
        "\n",
        "The aim of this notebook is to start simple and slowly build up the program.\n",
        "The approach we take below is one way to understand a problem, step 1 of our\n",
        "development process. For complex projects, they often follow a similar idea\n",
        "where they implement a minimal program, and each week or month have intense\n",
        "periods were the team adds functionality.  These advanced methodologies are\n",
        "beyond the scope of an introductory programming course but start small and\n",
        "slowly add functionality we do capture the essence of the process.\n",
        "\n",
        "\n",
        "### The Initial (minimal) Program\n",
        "\n",
        "Consider 'Ram' who has a salary of \\$25000.  They have sold goods worth $20000\n",
        "and earns 2% commission on the sales. They fall into the 10% tax bracket. We\n",
        "will talk about tax-brackets in another notebook. Before making payments the\n",
        "organisation needs to deduct 10% tax.\n",
        "\n",
        "We need to program to print out a payslip for sales people.  Our payslip\n",
        "is very simple, we need a title, the amount of salary, the amount of commission,\n",
        "the amount of tax, and the total pay.\n",
        "\n",
        "Run the following program for one person."
      ]
    },
    {
      "cell_type": "code",
      "execution_count": null,
      "metadata": {
        "colab": {
          "base_uri": "https://localhost:8080/"
        },
        "id": "2UenEHfcTuLz",
        "outputId": "7e9ec9ab-f5d9-4b0b-f5e5-bfa5d2a605ce"
      },
      "outputs": [
        {
          "name": "stdout",
          "output_type": "stream",
          "text": [
            "Payslip of Ram\n",
            "Salary 25000 Commission 400.0 Tax 2540.0\n",
            "Total pay 22860.0\n"
          ]
        }
      ],
      "source": [
        "salary = 25000\n",
        "sales = 20000\n",
        "commission = 0.02 * sales\n",
        "tax = (salary + commission) * 0.10\n",
        "pay = salary + commission - tax\n",
        "print('Payslip of Ram')\n",
        "print('Salary', salary,'Commission',commission,'Tax', tax)\n",
        "print('Total pay',pay)"
      ]
    },
    {
      "cell_type": "markdown",
      "metadata": {
        "id": "QzcJGzRBUDz2"
      },
      "source": [
        "Now, consider 'Radha' who has a salary of \\$30000.  They have sold goods worth $40000 and earns 2.5% commision on the sales. They fall into the 10% tax bracket and so before making payments we need to deduct 10% form his total payout."
      ]
    },
    {
      "cell_type": "code",
      "execution_count": null,
      "metadata": {
        "id": "wFmuD9ujUgDW",
        "colab": {
          "base_uri": "https://localhost:8080/"
        },
        "outputId": "b59dbce6-7cc4-4871-878d-3a603458ecf5"
      },
      "outputs": [
        {
          "output_type": "stream",
          "name": "stdout",
          "text": [
            "Payslip of Radha\n",
            "Salary 30000 Commission 1000.0 Tax 3100.0\n",
            "Total pay 27900.0\n"
          ]
        }
      ],
      "source": [
        "salary = 30000\n",
        "sales = 40000\n",
        "commission = 0.025 * sales\n",
        "tax = (salary + commission) * 0.10\n",
        "pay = salary + commission - tax\n",
        "print('Payslip of Radha')\n",
        "print('Salary', salary,'Commission',commission,'Tax', tax)\n",
        "print('Total pay',pay)"
      ]
    },
    {
      "cell_type": "markdown",
      "metadata": {
        "id": "UFGObxq7UlvE"
      },
      "source": [
        "## Task 2 - Generalise\n",
        "\n",
        "What did we change from Ram to Radha?"
      ]
    },
    {
      "cell_type": "markdown",
      "source": [
        "Salary: Radha's salary us $30,000 whereas ram was $20,00\n",
        "Sales: radha sales was $40,00 and ram was $20,00\n",
        "Radha earns a 2.5% comission and ram 2%\n",
        "\n",
        "\n",
        "\n",
        "\n"
      ],
      "metadata": {
        "id": "WsSLfacbHd1D"
      }
    },
    {
      "cell_type": "markdown",
      "metadata": {
        "id": "7PrlmDmYV6iX"
      },
      "source": [
        "Make what we changed as inputs (parameters) to a function"
      ]
    },
    {
      "cell_type": "code",
      "execution_count": 3,
      "metadata": {
        "id": "cJwgf8nZWDF6",
        "colab": {
          "base_uri": "https://localhost:8080/"
        },
        "outputId": "73688b58-2641-4926-bbb2-4f34e08d3d40"
      },
      "outputs": [
        {
          "output_type": "stream",
          "name": "stdout",
          "text": [
            "Payslip for Radha\n",
            "-------------------------\n",
            "Salary: $30000\n",
            "Commission: $1000.0\n",
            "Tax: $3100.0\n",
            "-------------------------\n",
            "Total Pay: $27900.0\n"
          ]
        }
      ],
      "source": [
        "def generate_payslip(name, salary, sales_amount, commission_rate, tax_rate):\n",
        "\n",
        "    commission = sales_amount * commission_rate\n",
        "    tax = (salary + commission) * tax_rate\n",
        "\n",
        "    total_pay = salary + commission - tax\n",
        "\n",
        "\n",
        "    print(f\"Payslip for {name}\")\n",
        "    print(\"-------------------------\")\n",
        "    print(f\"Salary: ${salary}\")\n",
        "    print(f\"Commission: ${commission}\")\n",
        "    print(f\"Tax: ${tax}\")\n",
        "    print(\"-------------------------\")\n",
        "    print(f\"Total Pay: ${total_pay}\")\n",
        "\n",
        "name_radha = \"Radha\"\n",
        "salary_radha = 30000\n",
        "sales_amount_radha = 40000\n",
        "commission_rate_radha = 0.025\n",
        "tax_rate_radha = 0.10\n",
        "\n",
        "\n",
        "\n",
        "generate_payslip(name_radha, salary_radha, sales_amount_radha, commission_rate_radha, tax_rate_radha)\n"
      ]
    },
    {
      "cell_type": "code",
      "source": [],
      "metadata": {
        "id": "Vx2rtT8XzNDn"
      },
      "execution_count": null,
      "outputs": []
    }
  ],
  "metadata": {
    "colab": {
      "provenance": []
    },
    "kernelspec": {
      "display_name": "Python 3",
      "name": "python3"
    },
    "language_info": {
      "name": "python"
    }
  },
  "nbformat": 4,
  "nbformat_minor": 0
}