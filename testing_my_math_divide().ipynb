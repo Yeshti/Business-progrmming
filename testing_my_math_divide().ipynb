{
  "nbformat": 4,
  "nbformat_minor": 0,
  "metadata": {
    "colab": {
      "name": "testing_my_math.divide().ipynb",
      "provenance": []
    },
    "kernelspec": {
      "name": "python3",
      "display_name": "Python 3"
    },
    "language_info": {
      "name": "python"
    }
  },
  "cells": [
    {
      "cell_type": "markdown",
      "source": [
        "## Testing  my_math.divide()\n",
        "\n",
        "What is your preferred testing strategy? Do you like using the assert statement or prefer doctest?  \n",
        "\n",
        "Using your preferred testing strategy, develop a test table and test the following funciton.  Where required update the function so all test behave as expected.\n",
        "\n",
        "\n",
        "## Function to test"
      ],
      "metadata": {
        "id": "LIfoDVzKX7uK"
      }
    },
    {
      "cell_type": "code",
      "source": [
        "def divide(x, y):\n",
        "    '''Divide first by second number'''\n",
        "    return x / y"
      ],
      "metadata": {
        "id": "YH9gDoOYvKwg"
      },
      "execution_count": 1,
      "outputs": []
    },
    {
      "cell_type": "markdown",
      "source": [
        "## Test Table\n",
        "\n",
        "List you test cases here."
      ],
      "metadata": {
        "id": "JYSZ-53nLF6n"
      }
    },
    {
      "cell_type": "markdown",
      "source": [
        "Test Case: Divide two integers where the result is an integer\n",
        "Inputs: x = 10, y = 2\n",
        "\n",
        "\n",
        "Expected Output: 5\n",
        "Test Case: Divide two integers where the result is a float\n",
        "Inputs: x = 10, y = 3\n",
        "Expected Output: 3.3333333333333335\n",
        "\n",
        "Test Case: Divide by zero (y = 0)\n",
        "Inputs: x = 5, y = 0\n",
        "Expected Output: ZeroDivisionError should be raised\n",
        "\n",
        "Test Case: Divide zero by a non-zero number\n",
        "Inputs: x = 0, y = 5\n",
        "Expected Output: 0\n",
        "\n",
        "Test Case: Divide a negative number by a positive number\n",
        "Inputs: x = -10, y = 2\n",
        "Expected Output: -5.0\n",
        "\n",
        "Test Case: Divide a positive number by a negative number\n",
        "Inputs: x = 10, y = -2\n",
        "Expected Output: -5.0\n",
        "\n",
        "Test Case: Divide two negative numbers\n",
        "Inputs: x = -10, y = -2\n",
        "Expected Output: 5.0"
      ],
      "metadata": {
        "id": "uRCLdlBH9j7D"
      }
    },
    {
      "cell_type": "code",
      "source": [
        "def test_divide():\n",
        "    # Test Case 1\n",
        "    assert divide(10, 2) == 5\n",
        "\n",
        "    # Test Case 2\n",
        "    assert divide(10, 3) == 10 / 3\n",
        "\n",
        "    # Test Case 3\n",
        "    try:\n",
        "        divide(5, 0)\n",
        "        # If we reach this line, the test fails\n",
        "        assert False, \"ZeroDivisionError not raised\"\n",
        "    except ZeroDivisionError:\n",
        "        # If ZeroDivisionError is raised, the test passes\n",
        "        pass\n",
        "\n",
        "    # Test Case 4\n",
        "    assert divide(0, 5) == 0\n",
        "\n",
        "    # Test Case 5\n",
        "    assert divide(-10, 2) == -5.0\n",
        "\n",
        "    # Test Case 6\n",
        "    assert divide(10, -2) == -5.0\n",
        "\n",
        "    # Test Case 7\n",
        "    assert divide(-10, -2) == 5.0\n",
        "\n",
        "test_divide()\n"
      ],
      "metadata": {
        "id": "DMTITEmbLE_Z"
      },
      "execution_count": 2,
      "outputs": []
    }
  ]
}