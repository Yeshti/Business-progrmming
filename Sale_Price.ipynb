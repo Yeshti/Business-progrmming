{
  "nbformat": 4,
  "nbformat_minor": 0,
  "metadata": {
    "colab": {
      "provenance": []
    },
    "kernelspec": {
      "name": "python3",
      "display_name": "Python 3"
    },
    "language_info": {
      "name": "python"
    }
  },
  "cells": [
    {
      "cell_type": "code",
      "execution_count": 1,
      "metadata": {
        "colab": {
          "base_uri": "https://localhost:8080/"
        },
        "id": "pqSRCjqS1Jl3",
        "outputId": "0f018088-0638-41da-be6e-918579b1d633"
      },
      "outputs": [
        {
          "output_type": "stream",
          "name": "stdout",
          "text": [
            "Enter the original price: 20000\n",
            "Enter the discount percentage: 3\n",
            "Enter the GST percentage: 1\n",
            "Total price (including GST): $ 19594.0\n"
          ]
        }
      ],
      "source": [
        "def calculate_total_price(original_price, discount_percentage, gst_percentage):\n",
        "    discounted_price = original_price * (1 - discount_percentage / 100)\n",
        "    total_price = discounted_price * (1 + gst_percentage / 100)\n",
        "    return total_price\n",
        "\n",
        "# Input\n",
        "original_price = float(input(\"Enter the original price: \"))\n",
        "discount_percentage = float(input(\"Enter the discount percentage: \"))\n",
        "gst_percentage = float(input(\"Enter the GST percentage: \"))\n",
        "\n",
        "# Calculate total price\n",
        "total_price = calculate_total_price(original_price, discount_percentage, gst_percentage)\n",
        "\n",
        "# Output\n",
        "print(\"Total price (including GST): $\", round(total_price, 2))\n"
      ]
    }
  ]
}