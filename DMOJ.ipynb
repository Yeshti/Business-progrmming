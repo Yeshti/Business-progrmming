{
  "nbformat": 4,
  "nbformat_minor": 0,
  "metadata": {
    "colab": {
      "provenance": []
    },
    "kernelspec": {
      "name": "python3",
      "display_name": "Python 3"
    },
    "language_info": {
      "name": "python"
    }
  },
  "cells": [
    {
      "cell_type": "markdown",
      "source": [
        "Submission of DMOPC '15 Contest 7 P2 - Not a Wall of Text by Yeshti"
      ],
      "metadata": {
        "id": "4ALjub197JhZ"
      }
    },
    {
      "cell_type": "code",
      "source": [
        "]text = input()\n",
        "word_count = 1\n",
        "\n",
        "for char in text:\n",
        "\n",
        "    if char == ' ':\n",
        "        word_count += 1\n",
        "\n",
        "print(word_count)"
      ],
      "metadata": {
        "colab": {
          "base_uri": "https://localhost:8080/"
        },
        "id": "pf_DLLB-7Mp2",
        "outputId": "49e2a1ab-433b-4816-a4c0-029b2be88e07"
      },
      "execution_count": 1,
      "outputs": [
        {
          "output_type": "stream",
          "name": "stdout",
          "text": [
            "2\n",
            "1\n"
          ]
        }
      ]
    }
  ]
}